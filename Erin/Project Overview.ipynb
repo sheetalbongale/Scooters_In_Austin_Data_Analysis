{
 "cells": [
  {
   "cell_type": "markdown",
   "metadata": {},
   "source": [
    "### Scooters in Austin"
   ]
  },
  {
   "cell_type": "markdown",
   "metadata": {},
   "source": [
    "![scooter picture](Lyft_Scooters.jpg \"Title\")"
   ]
  },
  {
   "cell_type": "markdown",
   "metadata": {},
   "source": [
    "#### Our Questions:\n",
    "• Are some neighborhoods guilty of complaining about scooters more, even when adjusted per capita?\\\n",
    "• Or, do the neighborhoods with the highest numbers of scooter ride endpoints also have the most scooter related complaints?\\\n",
    "• Are people more likely to complain about scooters in a neighborhood where scooters are less commonly found?\\\n",
    "• Do local events, month of year, or day of week impact the total number of scooter rides?\\\n",
    "• Where are the scooters going?\\\n",
    "• What are the average, minimum, and maximum trip distances?\\\n",
    "• Do longer scooter rides to farther-out neighborhoods result in more complaints?"
   ]
  },
  {
   "cell_type": "markdown",
   "metadata": {},
   "source": [
    "#### Our Resources:\n",
    "• City of Austin 311 OpenData: https://data.austintexas.gov/resource/i26j-ai4z.json \\\n",
    "• Austin Shared Mobility API: https://data.austintexas.gov/resource/7d8e-dm7r.json \\\n",
    "• FCC API call for lat/long to census tract conversion: https://geo.fcc.gov/api/census/ \\\n",
    "• Flat file for census tract to zip code: https://www.huduser.gov/portal/datasets/usps_crosswalk.html"
   ]
  },
  {
   "cell_type": "markdown",
   "metadata": {},
   "source": [
    "#### What we think we'll see:\n",
    "• We think some neighborhoods complain about scooters regardless of the number of scooter rides per person in the population. \\\n",
    "• We think that scooter rides, and complaints about them, soar when events are happening in town, along with a rise every weekend. \\\n",
    "• We think complaints raise as people take scooters into neighborhoods where scooters are less common. "
   ]
  },
  {
   "cell_type": "markdown",
   "metadata": {},
   "source": [
    "#### Our method:\n",
    "\n",
    "• The first thing we did was use austintexas.gov data to create a data frame with the Austin Shared Micromobility data. This tracks every scooter ride in town, regardless of brand / parent company. This data is visible by census tract. \\\n",
    "• Then, we took the census zipcode key and appended it, to tell us the zipcodes for the various rides. \\\n",
    "• From there, we could join our tables by zipcode and then compare them to the 311 complaints dataset for scooters. \n",
    "\n"
   ]
  },
  {
   "cell_type": "code",
   "execution_count": null,
   "metadata": {},
   "outputs": [],
   "source": []
  }
 ],
 "metadata": {
  "kernelspec": {
   "display_name": "virtual_environment",
   "language": "python",
   "name": "virtual_environment"
  },
  "language_info": {
   "codemirror_mode": {
    "name": "ipython",
    "version": 3
   },
   "file_extension": ".py",
   "mimetype": "text/x-python",
   "name": "python",
   "nbconvert_exporter": "python",
   "pygments_lexer": "ipython3",
   "version": "3.8.0"
  }
 },
 "nbformat": 4,
 "nbformat_minor": 4
}
