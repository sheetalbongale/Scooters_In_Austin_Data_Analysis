{
 "cells": [
  {
   "cell_type": "markdown",
   "metadata": {},
   "source": [
    "### Scooters in Austin"
   ]
  },
  {
   "cell_type": "markdown",
   "metadata": {},
   "source": [
    "![scooter picture](Lyft_Scooters.jpg \"Title\")"
   ]
  },
  {
   "cell_type": "markdown",
   "metadata": {},
   "source": [
    "#### Our Questions:\n",
    "• Are some neighborhoods guilty of complaining about scooters more, even when adjusted per capita?\\\n",
    "• Or, do the neighborhoods with the highest numbers of scooter ride endpoints also have the most scooter related complaints?\\\n",
    "• Are people more likely to complain about scooters in a neighborhood where scooters are less commonly found?\\\n",
    "• Do local events, month of year, or day of week impact the total number of scooter rides?\\\n",
    "• Where are the scooters going?\\\n",
    "• What are the average, minimum, and maximum trip distances?\\\n",
    "• Do longer scooter rides to farther-out neighborhoods result in more complaints?"
   ]
  },
  {
   "cell_type": "markdown",
   "metadata": {},
   "source": [
    "#### Our Resources:\n",
    "• City of Austin 311 OpenData: https://data.austintexas.gov/resource/i26j-ai4z.json \\\n",
    "• Austin Shared Mobility API: https://data.austintexas.gov/resource/7d8e-dm7r.json \\\n",
    "• FCC API call for lat/long to census tract conversion: https://geo.fcc.gov/api/census/ \\\n",
    "• Flat file for census tract to zip code: https://www.huduser.gov/portal/datasets/usps_crosswalk.html"
   ]
  },
  {
   "cell_type": "markdown",
   "metadata": {},
   "source": [
    "#### What we think we'll see:\n",
    "• We think some neighborhoods complain about scooters regardless of the number of scooter rides per person in the population. \\\n",
    "• We think that scooter rides, and complaints about them, soar when events are happening in town, along with a rise every weekend. \\\n",
    "• We think complaints raise as people take scooters into neighborhoods where scooters are less common. "
   ]
  },
  {
   "cell_type": "markdown",
   "metadata": {},
   "source": [
    "#### Our method:\n",
    "\n",
    "• The first thing we did was use austintexas.gov data to create a data frame with the Austin Shared Micromobility data. This tracks every scooter ride in town, regardless of brand / parent company. This data is visible by census tract. \\\n",
    "• Then, we took the census zipcode key and appended it, to tell us the zipcodes for the various rides. \\\n",
    "• From there, we could join our tables by zipcode and then compare them to the 311 complaints dataset for scooters. \n",
    "\n"
   ]
  },
  {
   "cell_type": "markdown",
   "metadata": {},
   "source": [
    "#### Dependencies and packages"
   ]
  },
  {
   "cell_type": "code",
   "execution_count": 1,
   "metadata": {},
   "outputs": [],
   "source": [
    "import os\n",
    "import matplotlib.pyplot as plt\n",
    "import pandas as pd\n",
    "import numpy as np\n",
    "import math as math\n",
    "import datetime as dt\n",
    "#import seaborn as sns\n",
    "import pandas as pd\n",
    "from sodapy import Socrata"
   ]
  },
  {
   "cell_type": "markdown",
   "metadata": {},
   "source": [
    "#### Dataframes"
   ]
  },
  {
   "cell_type": "markdown",
   "metadata": {},
   "source": [
    "##### Shared Mobility:"
   ]
  },
  {
   "cell_type": "code",
   "execution_count": null,
   "metadata": {},
   "outputs": [
    {
     "name": "stderr",
     "output_type": "stream",
     "text": [
      "WARNING:root:Requests made without an app_token will be subject to strict throttling limits.\n"
     ]
    }
   ],
   "source": [
    "output_data_file = \"Output_Data/shared_mobility.csv\"\n",
    "# url = https://data.austintexas.gov/resource/7d8e-dm7r.json\n",
    "# Data Extraction:\n",
    "client = Socrata(\"data.austintexas.gov\", None)\n",
    "results = client.get(\"7d8e-dm7r\", limit=8300000)\n",
    "# Convert to pandas DataFrame\n",
    "results_df = pd.DataFrame.from_records(results)\n",
    "results_df.head()"
   ]
  },
  {
   "cell_type": "code",
   "execution_count": null,
   "metadata": {},
   "outputs": [],
   "source": [
    "clean_results_df = results_df.copy()\n",
    "clean_results_df = clean_results_df.rename(columns = {\n",
    "    \"trip_id\": \"Trip ID\",\n",
    "    \"device_id\": \"Device ID\",\n",
    "    \"modified_date\": \"Data Modified Date\",\n",
    "    \"vehicle_type\": \"Vehicle Type\",\n",
    "    \"trip_duration\": \"Trip Duration\",\n",
    "    \"trip_distance\": \"Trip Distance\",\n",
    "    \"start_time\": \"Trip Start Time\",\n",
    "    \"end_time\": \"Trip End Time\",\n",
    "    \"hour\": \"Hour\",\n",
    "    \"day_of_week\": \"Day Of Week\",\n",
    "    \"month\": \"Month\",\n",
    "    \"year\": \"Year\",\n",
    "    \"census_geoid_start\": \"GEOID Start\",\n",
    "    \"census_geoid_end\": \"GEOID End\",\n",
    "    \"council_district_start\": \"Start Council District\",\n",
    "    \"council_district_end\" : \"Return Council District\"\n",
    "})\n",
    "# Drop all the null values\n",
    "clean_results_df = clean_results_df.dropna(how='any')\n",
    "# Change the time and date format for columns - 'Data Modified Date', 'Trip Start time' and 'Trip End Time'\n",
    "clean_results_df['Trip Start Time'] = pd.to_datetime(clean_results_df['Trip Start Time'])\n",
    "clean_results_df['Trip End Time'] = pd.to_datetime(clean_results_df['Trip End Time'])\n",
    "clean_results_df['Data Modified Date'] = pd.to_datetime(clean_results_df['Data Modified Date'])\n",
    "clean_results_df.head()"
   ]
  },
  {
   "cell_type": "markdown",
   "metadata": {},
   "source": [
    "##### Austin API:"
   ]
  },
  {
   "cell_type": "code",
   "execution_count": null,
   "metadata": {},
   "outputs": [],
   "source": []
  },
  {
   "cell_type": "markdown",
   "metadata": {},
   "source": [
    "#### Visualizations"
   ]
  },
  {
   "cell_type": "code",
   "execution_count": null,
   "metadata": {},
   "outputs": [],
   "source": [
    "# Count trips per day and sort by day:\n",
    "daily_total = pd.DataFrame(clean_results_df['Day Of Week'].value_counts().sort_index())\n",
    "\n",
    "# Map day of week for better labels. Data documentation indicates \"0=Sunday and so on.\"\"\n",
    "days = ['Sunday', 'Monday', 'Tuesday', 'Wednesday', 'Thursday', 'Friday', 'Saturday']\n",
    "daily_total['Day'] = days\n",
    "\n",
    "# Plot\n",
    "daily_total.plot(kind='bar', x='Day', y='Day Of Week', title='Total Trip Counts by Day of week', figsize = (10,5), rot= 30, legend=False)\n",
    "plt.ylabel('Number of Trips')\n",
    "plt.savefig(\"Plots/trips_per_week.png\")\n",
    "plt.show()"
   ]
  },
  {
   "cell_type": "code",
   "execution_count": null,
   "metadata": {},
   "outputs": [],
   "source": [
    "# Count trips per hour and sort by hour:\n",
    "hourly_total = pd.DataFrame(clean_results_df['Hour'].value_counts().sort_index())\n",
    "#hours = ['0','1','2','3','4','5','6','7','8','9','10','11','12','13','14','15','16','17','18', '19','20','21','22','23']\n",
    "#hours = ['0','1','10','11','12','13','14','15','16','17','18','19','2','20','21','22','23','3','4','5','6','7','8','9']\n",
    "#hourly_total['Hours'] = hours\n",
    "\n",
    "hourly_total.reset_index().plot(kind='bar', x='index', y='Hour', title='Total Trip Counts by Hour', figsize = (10,5), legend=False)\n",
    "plt.xlabel('Hours')\n",
    "plt.ylabel('Number of Trips')\n",
    "plt.savefig(\"Plots/trips_per_hour.png\")\n",
    "plt.show()\n",
    "#now shows correct plot but xticks not sorted"
   ]
  },
  {
   "cell_type": "code",
   "execution_count": null,
   "metadata": {},
   "outputs": [],
   "source": [
    "monthly_total = pd.DataFrame(clean_results_df['Month'].value_counts()).sort_index()\n",
    "import calendar\n",
    "mn=[calendar.month_name[int(x)] for x in monthly_total.index.values.tolist()]\n",
    "monthly_chart = monthly_total.plot.bar(title = \"Total Trips per Month \",width = 0.75,figsize = (10,5),rot = 30, legend = False)\n",
    "monthly_chart.set_xticklabels(mn)\n",
    "monthly_chart.set_xlabel(\"Trip Months\")\n",
    "monthly_chart.set_ylabel(\"Total Trip Count\")\n",
    "plt.savefig(\"Plots/trips_per_month1.png\")\n",
    "plt.show()"
   ]
  },
  {
   "cell_type": "code",
   "execution_count": null,
   "metadata": {},
   "outputs": [],
   "source": []
  }
 ],
 "metadata": {
  "kernelspec": {
   "display_name": "virtual_environment",
   "language": "python",
   "name": "virtual_environment"
  },
  "language_info": {
   "codemirror_mode": {
    "name": "ipython",
    "version": 3
   },
   "file_extension": ".py",
   "mimetype": "text/x-python",
   "name": "python",
   "nbconvert_exporter": "python",
   "pygments_lexer": "ipython3",
   "version": "3.8.0"
  }
 },
 "nbformat": 4,
 "nbformat_minor": 4
}
